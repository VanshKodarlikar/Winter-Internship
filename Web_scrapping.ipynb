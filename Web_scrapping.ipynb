{
  "nbformat": 4,
  "nbformat_minor": 0,
  "metadata": {
    "colab": {
      "provenance": [],
      "include_colab_link": true
    },
    "kernelspec": {
      "name": "python3",
      "display_name": "Python 3"
    },
    "language_info": {
      "name": "python"
    }
  },
  "cells": [
    {
      "cell_type": "markdown",
      "metadata": {
        "id": "view-in-github",
        "colab_type": "text"
      },
      "source": [
        "<a href=\"https://colab.research.google.com/github/VanshKodarlikar/Winter-Internship/blob/main/Web_scrapping.ipynb\" target=\"_parent\"><img src=\"https://colab.research.google.com/assets/colab-badge.svg\" alt=\"Open In Colab\"/></a>"
      ]
    },
    {
      "cell_type": "markdown",
      "source": [
        "Extract data from Wikipedia :\n",
        "India - All sates\n",
        "\n",
        "Bollywood Movies  wikipedia page:\n",
        "\n"
      ],
      "metadata": {
        "id": "iBfIeJcKtoQj"
      }
    },
    {
      "cell_type": "code",
      "execution_count": 2,
      "metadata": {
        "id": "IPmP4eQtremO"
      },
      "outputs": [],
      "source": [
        "import requests\n",
        "from bs4 import BeautifulSoup as bs\n",
        "import pandas as pd"
      ]
    },
    {
      "cell_type": "code",
      "source": [
        "url = 'http://books.toscrape.com/'\n",
        "\n",
        "response = requests.get(url)\n",
        "response"
      ],
      "metadata": {
        "colab": {
          "base_uri": "https://localhost:8080/"
        },
        "id": "VwAigJ5Bsra8",
        "outputId": "347b8df9-2741-43b4-bf09-8d139285b234"
      },
      "execution_count": 3,
      "outputs": [
        {
          "output_type": "execute_result",
          "data": {
            "text/plain": [
              "<Response [200]>"
            ]
          },
          "metadata": {},
          "execution_count": 3
        }
      ]
    },
    {
      "cell_type": "code",
      "source": [
        "response.status_code"
      ],
      "metadata": {
        "colab": {
          "base_uri": "https://localhost:8080/"
        },
        "id": "M8rk4Lhytctv",
        "outputId": "e5e5f8b7-1d34-46c5-d19a-5dcb70005ad9"
      },
      "execution_count": 4,
      "outputs": [
        {
          "output_type": "execute_result",
          "data": {
            "text/plain": [
              "200"
            ]
          },
          "metadata": {},
          "execution_count": 4
        }
      ]
    },
    {
      "cell_type": "code",
      "source": [
        "type(response)"
      ],
      "metadata": {
        "colab": {
          "base_uri": "https://localhost:8080/"
        },
        "id": "hsxAu29PuYjY",
        "outputId": "3ed5c075-303f-47af-ca36-60289470cc27"
      },
      "execution_count": 5,
      "outputs": [
        {
          "output_type": "execute_result",
          "data": {
            "text/plain": [
              "requests.models.Response"
            ]
          },
          "metadata": {},
          "execution_count": 5
        }
      ]
    },
    {
      "cell_type": "code",
      "source": [
        "print(response.text[:1000])"
      ],
      "metadata": {
        "colab": {
          "base_uri": "https://localhost:8080/"
        },
        "id": "4IPTBHsetiWl",
        "outputId": "50f9ce1a-3839-45cb-9b9d-81cbb5ce9891"
      },
      "execution_count": 6,
      "outputs": [
        {
          "output_type": "stream",
          "name": "stdout",
          "text": [
            "<!DOCTYPE html>\n",
            "<!--[if lt IE 7]>      <html lang=\"en-us\" class=\"no-js lt-ie9 lt-ie8 lt-ie7\"> <![endif]-->\n",
            "<!--[if IE 7]>         <html lang=\"en-us\" class=\"no-js lt-ie9 lt-ie8\"> <![endif]-->\n",
            "<!--[if IE 8]>         <html lang=\"en-us\" class=\"no-js lt-ie9\"> <![endif]-->\n",
            "<!--[if gt IE 8]><!--> <html lang=\"en-us\" class=\"no-js\"> <!--<![endif]-->\n",
            "    <head>\n",
            "        <title>\n",
            "    All products | Books to Scrape - Sandbox\n",
            "</title>\n",
            "\n",
            "        <meta http-equiv=\"content-type\" content=\"text/html; charset=UTF-8\" />\n",
            "        <meta name=\"created\" content=\"24th Jun 2016 09:29\" />\n",
            "        <meta name=\"description\" content=\"\" />\n",
            "        <meta name=\"viewport\" content=\"width=device-width\" />\n",
            "        <meta name=\"robots\" content=\"NOARCHIVE,NOCACHE\" />\n",
            "\n",
            "        <!-- Le HTML5 shim, for IE6-8 support of HTML elements -->\n",
            "        <!--[if lt IE 9]>\n",
            "        <script src=\"//html5shim.googlecode.com/svn/trunk/html5.js\"></script>\n",
            "        <![endif]-->\n",
            "\n",
            "        \n",
            "            <link rel=\"shortcut icon\" href=\"static/oscar/favicon.\n"
          ]
        }
      ]
    },
    {
      "cell_type": "code",
      "source": [
        "type(response.text)"
      ],
      "metadata": {
        "colab": {
          "base_uri": "https://localhost:8080/"
        },
        "id": "dGO0ueEqu6_M",
        "outputId": "bdfe404e-0cd0-45bc-e289-2fdf10148000"
      },
      "execution_count": 7,
      "outputs": [
        {
          "output_type": "execute_result",
          "data": {
            "text/plain": [
              "str"
            ]
          },
          "metadata": {},
          "execution_count": 7
        }
      ]
    },
    {
      "cell_type": "code",
      "source": [
        "soup = bs(response.text)\n",
        "type(soup)"
      ],
      "metadata": {
        "colab": {
          "base_uri": "https://localhost:8080/"
        },
        "id": "djAzAK5rvSz6",
        "outputId": "93ff18d1-e5f2-4baf-8536-c22533ab7fe6"
      },
      "execution_count": 8,
      "outputs": [
        {
          "output_type": "execute_result",
          "data": {
            "text/plain": [
              "bs4.BeautifulSoup"
            ]
          },
          "metadata": {},
          "execution_count": 8
        }
      ]
    },
    {
      "cell_type": "code",
      "source": [
        "soup.find('title').text"
      ],
      "metadata": {
        "colab": {
          "base_uri": "https://localhost:8080/",
          "height": 35
        },
        "id": "m0RfWeFXv_Ei",
        "outputId": "e673c659-eb48-47d0-cee4-3a56e3d8b2b0"
      },
      "execution_count": 9,
      "outputs": [
        {
          "output_type": "execute_result",
          "data": {
            "text/plain": [
              "'\\n    All products | Books to Scrape - Sandbox\\n'"
            ],
            "application/vnd.google.colaboratory.intrinsic+json": {
              "type": "string"
            }
          },
          "metadata": {},
          "execution_count": 9
        }
      ]
    },
    {
      "cell_type": "code",
      "source": [
        "soup.find('title').text.strip()"
      ],
      "metadata": {
        "colab": {
          "base_uri": "https://localhost:8080/",
          "height": 35
        },
        "id": "-rpzn9x_wUbs",
        "outputId": "dcb51ed9-0c3d-4357-9779-87117c76df49"
      },
      "execution_count": 10,
      "outputs": [
        {
          "output_type": "execute_result",
          "data": {
            "text/plain": [
              "'All products | Books to Scrape - Sandbox'"
            ],
            "application/vnd.google.colaboratory.intrinsic+json": {
              "type": "string"
            }
          },
          "metadata": {},
          "execution_count": 10
        }
      ]
    },
    {
      "cell_type": "code",
      "source": [
        "books_tag = soup.find_all('article',class_='product_pod')"
      ],
      "metadata": {
        "id": "fjCKrf_5wakE"
      },
      "execution_count": 11,
      "outputs": []
    },
    {
      "cell_type": "code",
      "source": [
        "len(books_tag)"
      ],
      "metadata": {
        "colab": {
          "base_uri": "https://localhost:8080/"
        },
        "id": "vdXeHKrnxcTz",
        "outputId": "8cf0a1ef-f60a-4196-adbc-37d70f4bd9e3"
      },
      "execution_count": 12,
      "outputs": [
        {
          "output_type": "execute_result",
          "data": {
            "text/plain": [
              "20"
            ]
          },
          "metadata": {},
          "execution_count": 12
        }
      ]
    },
    {
      "cell_type": "code",
      "source": [
        "book = books_tag[0]\n",
        "print(book)"
      ],
      "metadata": {
        "colab": {
          "base_uri": "https://localhost:8080/"
        },
        "id": "aiSNWtNCxoI_",
        "outputId": "bf559504-eeaf-49b0-b73e-755ad5214fe8"
      },
      "execution_count": 13,
      "outputs": [
        {
          "output_type": "stream",
          "name": "stdout",
          "text": [
            "<article class=\"product_pod\">\n",
            "<div class=\"image_container\">\n",
            "<a href=\"catalogue/a-light-in-the-attic_1000/index.html\"><img alt=\"A Light in the Attic\" class=\"thumbnail\" src=\"media/cache/2c/da/2cdad67c44b002e7ead0cc35693c0e8b.jpg\"/></a>\n",
            "</div>\n",
            "<p class=\"star-rating Three\">\n",
            "<i class=\"icon-star\"></i>\n",
            "<i class=\"icon-star\"></i>\n",
            "<i class=\"icon-star\"></i>\n",
            "<i class=\"icon-star\"></i>\n",
            "<i class=\"icon-star\"></i>\n",
            "</p>\n",
            "<h3><a href=\"catalogue/a-light-in-the-attic_1000/index.html\" title=\"A Light in the Attic\">A Light in the ...</a></h3>\n",
            "<div class=\"product_price\">\n",
            "<p class=\"price_color\">Â£51.77</p>\n",
            "<p class=\"instock availability\">\n",
            "<i class=\"icon-ok\"></i>\n",
            "    \n",
            "        In stock\n",
            "    \n",
            "</p>\n",
            "<form>\n",
            "<button class=\"btn btn-primary btn-block\" data-loading-text=\"Adding...\" type=\"submit\">Add to basket</button>\n",
            "</form>\n",
            "</div>\n",
            "</article>\n"
          ]
        }
      ]
    },
    {
      "cell_type": "code",
      "source": [
        "title_tag = book.find('a',title=True)\n",
        "title_tag"
      ],
      "metadata": {
        "colab": {
          "base_uri": "https://localhost:8080/"
        },
        "id": "JTyFJarTyDHu",
        "outputId": "2842fb0c-8072-4c06-999c-167393af1eb0"
      },
      "execution_count": 14,
      "outputs": [
        {
          "output_type": "execute_result",
          "data": {
            "text/plain": [
              "<a href=\"catalogue/a-light-in-the-attic_1000/index.html\" title=\"A Light in the Attic\">A Light in the ...</a>"
            ]
          },
          "metadata": {},
          "execution_count": 14
        }
      ]
    },
    {
      "cell_type": "code",
      "source": [
        "title_tag.text"
      ],
      "metadata": {
        "colab": {
          "base_uri": "https://localhost:8080/",
          "height": 35
        },
        "id": "Rh5HnNe9yaaB",
        "outputId": "3a6e11bd-715f-4d61-d4e6-4e90b4cce733"
      },
      "execution_count": 15,
      "outputs": [
        {
          "output_type": "execute_result",
          "data": {
            "text/plain": [
              "'A Light in the ...'"
            ],
            "application/vnd.google.colaboratory.intrinsic+json": {
              "type": "string"
            }
          },
          "metadata": {},
          "execution_count": 15
        }
      ]
    },
    {
      "cell_type": "code",
      "source": [
        "title_tag['href']"
      ],
      "metadata": {
        "colab": {
          "base_uri": "https://localhost:8080/",
          "height": 35
        },
        "id": "cG6tUrgdyfhO",
        "outputId": "623f24de-d5c4-4164-e3d8-aa20df83534a"
      },
      "execution_count": 16,
      "outputs": [
        {
          "output_type": "execute_result",
          "data": {
            "text/plain": [
              "'catalogue/a-light-in-the-attic_1000/index.html'"
            ],
            "application/vnd.google.colaboratory.intrinsic+json": {
              "type": "string"
            }
          },
          "metadata": {},
          "execution_count": 16
        }
      ]
    },
    {
      "cell_type": "code",
      "source": [
        "title_tag['title']"
      ],
      "metadata": {
        "colab": {
          "base_uri": "https://localhost:8080/",
          "height": 35
        },
        "id": "7ox4vJnnynPJ",
        "outputId": "c1fcaa82-9a76-4930-c846-df23741b9a51"
      },
      "execution_count": 17,
      "outputs": [
        {
          "output_type": "execute_result",
          "data": {
            "text/plain": [
              "'A Light in the Attic'"
            ],
            "application/vnd.google.colaboratory.intrinsic+json": {
              "type": "string"
            }
          },
          "metadata": {},
          "execution_count": 17
        }
      ]
    },
    {
      "cell_type": "code",
      "source": [
        "book.find('p')['class'][1]"
      ],
      "metadata": {
        "colab": {
          "base_uri": "https://localhost:8080/",
          "height": 35
        },
        "id": "LcHpgoAOy2JV",
        "outputId": "7feccd49-8eef-4554-d871-39961fc4ab4a"
      },
      "execution_count": 18,
      "outputs": [
        {
          "output_type": "execute_result",
          "data": {
            "text/plain": [
              "'Three'"
            ],
            "application/vnd.google.colaboratory.intrinsic+json": {
              "type": "string"
            }
          },
          "metadata": {},
          "execution_count": 18
        }
      ]
    },
    {
      "cell_type": "code",
      "source": [
        "soup = bs(response.text, 'html.parser')\n",
        "\n",
        "book_data = {\n",
        "    'Name': [],\n",
        "    'Rating': [],\n",
        "    'Price': [],\n",
        "    'URL': []\n",
        "}\n",
        "\n",
        "articles = soup.find_all('article', class_='product_pod')\n",
        "\n",
        "for article in articles:\n",
        "    # Book Name\n",
        "    book_data['Name'].append(article.h3.a['title'])\n",
        "\n",
        "    # Rating\n",
        "    book_data['Rating'].append(article.p['class'][1])\n",
        "\n",
        "    # Price\n",
        "    book_data['Price'].append(article.find('p', class_='price_color').text)\n",
        "\n",
        "    # URL\n",
        "    book_data['URL'].append(url + article.h3.a['href'])\n",
        "\n",
        "books_df = pd.DataFrame(book_data)\n",
        "\n",
        "print(books_df)\n"
      ],
      "metadata": {
        "id": "ph3qPjKHGUIv",
        "colab": {
          "base_uri": "https://localhost:8080/"
        },
        "outputId": "dcda52bc-85e5-4314-a572-6e76de29c596"
      },
      "execution_count": 19,
      "outputs": [
        {
          "output_type": "stream",
          "name": "stdout",
          "text": [
            "                                                 Name Rating    Price  \\\n",
            "0                                A Light in the Attic  Three  Â£51.77   \n",
            "1                                  Tipping the Velvet    One  Â£53.74   \n",
            "2                                          Soumission    One  Â£50.10   \n",
            "3                                       Sharp Objects   Four  Â£47.82   \n",
            "4               Sapiens: A Brief History of Humankind   Five  Â£54.23   \n",
            "5                                     The Requiem Red    One  Â£22.65   \n",
            "6   The Dirty Little Secrets of Getting Your Dream...   Four  Â£33.34   \n",
            "7   The Coming Woman: A Novel Based on the Life of...  Three  Â£17.93   \n",
            "8   The Boys in the Boat: Nine Americans and Their...   Four  Â£22.60   \n",
            "9                                     The Black Maria    One  Â£52.15   \n",
            "10     Starving Hearts (Triangular Trade Trilogy, #1)    Two  Â£13.99   \n",
            "11                              Shakespeare's Sonnets   Four  Â£20.66   \n",
            "12                                        Set Me Free   Five  Â£17.46   \n",
            "13  Scott Pilgrim's Precious Little Life (Scott Pi...   Five  Â£52.29   \n",
            "14                          Rip it Up and Start Again   Five  Â£35.02   \n",
            "15  Our Band Could Be Your Life: Scenes from the A...  Three  Â£57.25   \n",
            "16                                               Olio    One  Â£23.88   \n",
            "17  Mesaerion: The Best Science Fiction Stories 18...    One  Â£37.59   \n",
            "18                       Libertarianism for Beginners    Two  Â£51.33   \n",
            "19                            It's Only the Himalayas    Two  Â£45.17   \n",
            "\n",
            "                                                  URL  \n",
            "0   http://books.toscrape.com/catalogue/a-light-in...  \n",
            "1   http://books.toscrape.com/catalogue/tipping-th...  \n",
            "2   http://books.toscrape.com/catalogue/soumission...  \n",
            "3   http://books.toscrape.com/catalogue/sharp-obje...  \n",
            "4   http://books.toscrape.com/catalogue/sapiens-a-...  \n",
            "5   http://books.toscrape.com/catalogue/the-requie...  \n",
            "6   http://books.toscrape.com/catalogue/the-dirty-...  \n",
            "7   http://books.toscrape.com/catalogue/the-coming...  \n",
            "8   http://books.toscrape.com/catalogue/the-boys-i...  \n",
            "9   http://books.toscrape.com/catalogue/the-black-...  \n",
            "10  http://books.toscrape.com/catalogue/starving-h...  \n",
            "11  http://books.toscrape.com/catalogue/shakespear...  \n",
            "12  http://books.toscrape.com/catalogue/set-me-fre...  \n",
            "13  http://books.toscrape.com/catalogue/scott-pilg...  \n",
            "14  http://books.toscrape.com/catalogue/rip-it-up-...  \n",
            "15  http://books.toscrape.com/catalogue/our-band-c...  \n",
            "16  http://books.toscrape.com/catalogue/olio_984/i...  \n",
            "17  http://books.toscrape.com/catalogue/mesaerion-...  \n",
            "18  http://books.toscrape.com/catalogue/libertaria...  \n",
            "19  http://books.toscrape.com/catalogue/its-only-t...  \n"
          ]
        }
      ]
    },
    {
      "cell_type": "code",
      "source": [],
      "metadata": {
        "id": "AMrNGvDxHw5K"
      },
      "execution_count": 19,
      "outputs": []
    }
  ]
}